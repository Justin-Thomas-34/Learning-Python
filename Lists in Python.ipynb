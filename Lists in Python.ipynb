{
 "cells": [
  {
   "cell_type": "markdown",
   "metadata": {},
   "source": [
    "# Lists in Python:\n",
    "In Python, a list is an ordered collection of items. \n",
    "Each item can be of any data type, and lists can contain a mix of different data types.\n",
    "Lists are mutable, meaning you can modify them by adding or removing elements."
   ]
  },
  {
   "cell_type": "code",
   "execution_count": 28,
   "metadata": {},
   "outputs": [],
   "source": [
    "# Creating a list of numbers\n",
    "numbers = [1, 2, 3, 4, 5]\n",
    "\n",
    "# Creating a list of strings\n",
    "fruits = ['apple', 'banana', 'orange']\n",
    "\n",
    "# Creating a list with mixed data types\n",
    "mixed_list = [1, 'apple', True, 3.14]\n"
   ]
  },
  {
   "cell_type": "code",
   "execution_count": 29,
   "metadata": {},
   "outputs": [],
   "source": [
    "# Accessing elements in a list\n",
    "first_number = numbers[0]\n",
    "second_fruit = fruits[1]\n"
   ]
  },
  {
   "cell_type": "code",
   "execution_count": 30,
   "metadata": {},
   "outputs": [],
   "source": [
    "# Modifying elements in a list\n",
    "numbers[2] = 10\n",
    "fruits.append('grape')  # Adding an element to the end of the list\n",
    "fruits.remove('banana')  # Removing an element by value"
   ]
  },
  {
   "cell_type": "code",
   "execution_count": 31,
   "metadata": {},
   "outputs": [],
   "source": [
    "# Concatenating lists\n",
    "combined_list = numbers + fruits\n",
    "\n",
    "# Repetition\n",
    "repeated_list = numbers * 3\n",
    "\n",
    "# Length of a list\n",
    "length = len(numbers)\n",
    "\n",
    "# Checking if an item is in the list\n",
    "is_apple_in_fruits = 'apple' in fruits\n"
   ]
  },
  {
   "cell_type": "code",
   "execution_count": 32,
   "metadata": {},
   "outputs": [],
   "source": [
    "# Slicing a list\n",
    "subset_numbers = numbers[1:4]  # Elements at indices 1, 2, 3"
   ]
  },
  {
   "cell_type": "markdown",
   "metadata": {},
   "source": [
    "# Practice Questions:"
   ]
  },
  {
   "cell_type": "markdown",
   "metadata": {},
   "source": [
    "## List Creation:\n",
    "\n",
    "Create a list named colors containing three of your favorite colors."
   ]
  },
  {
   "cell_type": "code",
   "execution_count": 33,
   "metadata": {},
   "outputs": [],
   "source": [
    "colors = [\"red\",\"blue\",\"green\"]"
   ]
  },
  {
   "cell_type": "markdown",
   "metadata": {},
   "source": [
    "## Accessing Elements:\n",
    "\n",
    "Access the second element of the colors list and print it."
   ]
  },
  {
   "cell_type": "code",
   "execution_count": 34,
   "metadata": {},
   "outputs": [
    {
     "name": "stdout",
     "output_type": "stream",
     "text": [
      "blue\n"
     ]
    }
   ],
   "source": [
    "print(colors[1])"
   ]
  },
  {
   "cell_type": "markdown",
   "metadata": {},
   "source": [
    "## Modifying Lists:\n",
    "\n",
    "Add a new color to the colors list.\n",
    "\n",
    "Modify the third color in the list."
   ]
  },
  {
   "cell_type": "code",
   "execution_count": 35,
   "metadata": {},
   "outputs": [
    {
     "name": "stdout",
     "output_type": "stream",
     "text": [
      "['red', 'blue', 'yellow', 'pink']\n"
     ]
    }
   ],
   "source": [
    "colors.append(\"pink\")\n",
    "colors[2] = \"yellow\"\n",
    "print(colors)"
   ]
  },
  {
   "cell_type": "markdown",
   "metadata": {},
   "source": [
    "## List Operations:\n",
    "\n",
    "Create a new list named more_colors with additional colors.\n",
    "\n",
    "Concatenate the colors and more_colors lists.\n",
    "\n",
    "Repeat the more_colors list three times."
   ]
  },
  {
   "cell_type": "code",
   "execution_count": 36,
   "metadata": {},
   "outputs": [
    {
     "name": "stdout",
     "output_type": "stream",
     "text": [
      "['red', 'blue', 'yellow', 'pink', 'orange', 'white', 'black']\n",
      "['orange', 'white', 'black', 'orange', 'white', 'black', 'orange', 'white', 'black']\n"
     ]
    }
   ],
   "source": [
    "more_colors = [\"orange\",\"white\",\"black\"]\n",
    "\n",
    "new_colors = colors + more_colors\n",
    "print(new_colors)\n",
    "\n",
    "repeat_colors = more_colors*3\n",
    "print(repeat_colors)\n"
   ]
  },
  {
   "cell_type": "markdown",
   "metadata": {},
   "source": [
    "## Slicing Lists:\n",
    "\n",
    "Create a list named numbers with values from 1 to 10.\n",
    "Use slicing to create a sublist containing the numbers 4 to 7."
   ]
  },
  {
   "cell_type": "code",
   "execution_count": 37,
   "metadata": {},
   "outputs": [
    {
     "data": {
      "text/plain": [
       "[4, 5, 6, 7]"
      ]
     },
     "execution_count": 37,
     "metadata": {},
     "output_type": "execute_result"
    }
   ],
   "source": [
    "numbers = [1,2,3,4,5,6,7,8,9,10]\n",
    "numbers[3:7]"
   ]
  },
  {
   "cell_type": "markdown",
   "metadata": {},
   "source": [
    "# To-Do List Project:\n",
    "## Create an Empty To-Do List:\n",
    "Initialize an empty list to represent the to-do list.\n",
    "\n",
    "# User Input for Adding Tasks:\n",
    "Implement a loop that takes user input to add tasks to the to-do list. The loop should continue until the user decides to stop.\n",
    "\n",
    "# User Input for Removing Tasks:\n",
    "Allow the user to remove tasks from the to-do list by entering the task's index.\n",
    "\n",
    "# Display the To-Do List:\n",
    "Print the current state of the to-do list after each addition or removal.\n",
    "\n",
    "# Exit the Program:\n",
    "Allow the user to exit the program when they are done managing their to-do list."
   ]
  },
  {
   "cell_type": "code",
   "execution_count": 38,
   "metadata": {},
   "outputs": [
    {
     "name": "stdout",
     "output_type": "stream",
     "text": [
      "Options:\n",
      "1. Add a task\n",
      "2. Remove a task\n",
      "3. Display to-do list\n",
      "4. Exit\n",
      "Task 'as' added to the to-do list.\n",
      "Options:\n",
      "1. Add a task\n",
      "2. Remove a task\n",
      "3. Display to-do list\n",
      "4. Exit\n",
      "Exiting the to-do list program.\n"
     ]
    }
   ],
   "source": [
    "# To-Do List Project\n",
    "\n",
    "# Initialize an empty to-do list\n",
    "todo_list = []\n",
    "\n",
    "while True:\n",
    "    # Display options to the user\n",
    "    print(\"Options:\")\n",
    "    print(\"1. Add a task\")\n",
    "    print(\"2. Remove a task\")\n",
    "    print(\"3. Display to-do list\")\n",
    "    print(\"4. Exit\")\n",
    "\n",
    "    # Get user choice\n",
    "    choice = input(\"Enter your choice (1/2/3/4): \")\n",
    "\n",
    "    if choice == \"1\":\n",
    "        # Add a task\n",
    "        task = input(\"Enter the task: \")\n",
    "        todo_list.append(task)\n",
    "        print(f\"Task '{task}' added to the to-do list.\")\n",
    "\n",
    "    elif choice == \"2\":\n",
    "        # Remove a task\n",
    "        print(\"To-Do List:\")\n",
    "        for i, task in enumerate(todo_list):\n",
    "            print(f\"{i + 1}. {task}\")\n",
    "\n",
    "        index = int(input(\"Enter the index of the task to remove: \")) - 1\n",
    "\n",
    "        if 0 <= index < len(todo_list):\n",
    "            removed_task = todo_list.pop(index)\n",
    "            print(f\"Task '{removed_task}' removed from the to-do list.\")\n",
    "        else:\n",
    "            print(\"Invalid index. Please enter a valid index.\")\n",
    "\n",
    "    elif choice == \"3\":\n",
    "        # Display to-do list\n",
    "        print(\"To-Do List:\")\n",
    "        for i, task in enumerate(todo_list):\n",
    "            print(f\"{i + 1}. {task}\")\n",
    "\n",
    "    elif choice == \"4\":\n",
    "        # Exit the program\n",
    "        print(\"Exiting the to-do list program.\")\n",
    "        break\n",
    "\n",
    "    else:\n",
    "        print(\"Invalid choice. Please enter a valid option.\")\n"
   ]
  }
 ],
 "metadata": {
  "kernelspec": {
   "display_name": "base",
   "language": "python",
   "name": "python3"
  },
  "language_info": {
   "codemirror_mode": {
    "name": "ipython",
    "version": 3
   },
   "file_extension": ".py",
   "mimetype": "text/x-python",
   "name": "python",
   "nbconvert_exporter": "python",
   "pygments_lexer": "ipython3",
   "version": "3.11.5"
  }
 },
 "nbformat": 4,
 "nbformat_minor": 2
}
