{
 "cells": [
  {
   "cell_type": "markdown",
   "metadata": {},
   "source": [
    "# Concept: Variables and Data Types\n",
    "## Variables:\n",
    "In Python, a variable is a storage location associated with a name (an identifier) that contains some known or unknown quantity of information, often referred to as a value."
   ]
  },
  {
   "cell_type": "code",
   "execution_count": 28,
   "metadata": {},
   "outputs": [],
   "source": [
    "name = \"John\"\n",
    "age = 25\n",
    "height = 1.75\n",
    "is_student = False\n"
   ]
  },
  {
   "cell_type": "markdown",
   "metadata": {},
   "source": [
    "In the examples above:\n",
    "\n",
    "name is a variable of type string.\n",
    "\n",
    "age is a variable of type integer.\n",
    "\n",
    "height is a variable of type float.\n",
    "\n",
    "is_student is a variable of type boolean.\n",
    "\n",
    "## Data Types:\n",
    "Python has several built-in data types:\n",
    "\n",
    "int: Integer type (e.g., 10, -5).\n",
    "\n",
    "float: Floating-point type (e.g., 3.14, -2.5).\n",
    "\n",
    "str: String type (e.g., \"Hello\", 'Python').\n",
    "\n",
    "bool: Boolean type (True or False)."
   ]
  },
  {
   "cell_type": "markdown",
   "metadata": {},
   "source": [
    "# Practice Questions:\n",
    "\n",
    "\n",
    "\n",
    "\n",
    "\n",
    "\n"
   ]
  },
  {
   "cell_type": "markdown",
   "metadata": {},
   "source": [
    "## Variable Assignment:\n",
    "\n",
    "Create a variable city and assign it the value \"New York\".\n",
    "\n",
    "Create a variable temperature and assign it the value 25.5.\n"
   ]
  },
  {
   "cell_type": "code",
   "execution_count": 29,
   "metadata": {},
   "outputs": [
    {
     "name": "stdout",
     "output_type": "stream",
     "text": [
      "New York\n",
      "25.5\n"
     ]
    }
   ],
   "source": [
    "city = \"New York\"\n",
    "temperature = 25.5\n",
    "print(city)\n",
    "print(temperature)"
   ]
  },
  {
   "cell_type": "markdown",
   "metadata": {},
   "source": [
    "## Data Type Conversion:\n",
    "\n",
    "Convert the variable temperature to an integer and assign it to a new variable called temperature_int."
   ]
  },
  {
   "cell_type": "code",
   "execution_count": 30,
   "metadata": {},
   "outputs": [
    {
     "name": "stdout",
     "output_type": "stream",
     "text": [
      "25\n"
     ]
    }
   ],
   "source": [
    "temperature_int = int(temperature)\n",
    "print(temperature_int)"
   ]
  },
  {
   "cell_type": "markdown",
   "metadata": {},
   "source": [
    "## Boolean Operations:\n",
    "\n",
    "Create a variable is_sunny and set it to True.\n",
    "\n",
    "Create a variable is_raining and set it to False.\n",
    "\n",
    "Use these variables to create a new variable will_go_out representing whether you will go out or not (Hint: You might use logical operators)."
   ]
  },
  {
   "cell_type": "code",
   "execution_count": 31,
   "metadata": {},
   "outputs": [
    {
     "name": "stdout",
     "output_type": "stream",
     "text": [
      "True\n"
     ]
    }
   ],
   "source": [
    "is_sunny = True\n",
    "is_raining = False\n",
    "if is_sunny == True and is_raining == False:\n",
    "    will_go_out = True\n",
    "print(will_go_out)"
   ]
  },
  {
   "cell_type": "markdown",
   "metadata": {},
   "source": [
    "## String Concatenation:\n",
    "\n",
    "Create two variables first_name and last_name with your first and last names.\n",
    "\n",
    "Concatenate them to create a full name and assign it to a variable full_name."
   ]
  },
  {
   "cell_type": "code",
   "execution_count": 32,
   "metadata": {},
   "outputs": [
    {
     "name": "stdout",
     "output_type": "stream",
     "text": [
      "John Nolan\n"
     ]
    }
   ],
   "source": [
    "first_name = \"John\"\n",
    "last_name = \"Nolan\"\n",
    "full_name = first_name +\" \"+ last_name\n",
    "print(full_name)"
   ]
  },
  {
   "cell_type": "markdown",
   "metadata": {},
   "source": [
    "# Simple Calculator Project:\n",
    "\n",
    "## User Input for Numbers:\n",
    "\n",
    "Create variables to store two numbers entered by the user.\n",
    "\n",
    "## User Input for Operation:\n",
    "\n",
    "Take user input to choose an arithmetic operation (addition, subtraction, multiplication, division).\n",
    "\n",
    "## Perform Calculation:\n",
    "\n",
    "Based on the user's choice, perform the corresponding calculation.\n",
    "\n",
    "## Print Result:\n",
    "\n",
    "Print the result of the calculation."
   ]
  },
  {
   "cell_type": "code",
   "execution_count": 39,
   "metadata": {},
   "outputs": [
    {
     "name": "stdout",
     "output_type": "stream",
     "text": [
      "Enter a coorect operation to perform\n"
     ]
    }
   ],
   "source": [
    "# user input for numbers\n",
    "number1 = float(input(\"Enter first number: \"))\n",
    "number2 = float(input(\"Enter second number: \"))\n",
    "\n",
    "# user input for operation\n",
    "operation = int(input(\"Enter 1 for addition  2 for subtration 3 for multiplication  4 for division : \"))\n",
    "\n",
    "# perform calculations\n",
    "if operation == 1:\n",
    "    result = number1 + number2\n",
    "elif operation == 2:\n",
    "    result = number1 - number2\n",
    "elif operation == 3:\n",
    "    result = number1 * number2\n",
    "elif operation == 4:\n",
    "    result =  number1/number2\n",
    "else:\n",
    "    result = \"Enter a coorect operation to perform\"\n",
    "\n",
    "# print result\n",
    "print(result)\n",
    "\n",
    "\n",
    "\n"
   ]
  },
  {
   "cell_type": "markdown",
   "metadata": {},
   "source": []
  }
 ],
 "metadata": {
  "kernelspec": {
   "display_name": "base",
   "language": "python",
   "name": "python3"
  },
  "language_info": {
   "codemirror_mode": {
    "name": "ipython",
    "version": 3
   },
   "file_extension": ".py",
   "mimetype": "text/x-python",
   "name": "python",
   "nbconvert_exporter": "python",
   "pygments_lexer": "ipython3",
   "version": "3.11.5"
  }
 },
 "nbformat": 4,
 "nbformat_minor": 2
}
